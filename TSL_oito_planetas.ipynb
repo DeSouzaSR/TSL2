{
 "cells": [
  {
   "cell_type": "markdown",
   "metadata": {},
   "source": [
    "# TSL\n",
    "\n",
    "## Cálculo das autofrequências"
   ]
  },
  {
   "cell_type": "markdown",
   "metadata": {},
   "source": [
    "## Importação dos módulos necessários"
   ]
  },
  {
   "cell_type": "code",
   "execution_count": 22,
   "metadata": {
    "collapsed": true
   },
   "outputs": [],
   "source": [
    "import TSL\n",
    "import numpy as np\n",
    "import pandas as pd"
   ]
  },
  {
   "cell_type": "markdown",
   "metadata": {},
   "source": [
    "## Leitura dos dados dos planetas"
   ]
  },
  {
   "cell_type": "code",
   "execution_count": 23,
   "metadata": {
    "collapsed": false
   },
   "outputs": [],
   "source": [
    "# Leitura dos dados\n",
    "input_file = \"SS_oito_planetas.txt\"\n",
    "\n",
    "# Lendo nome dos planetas\n",
    "planetas = pd.read_table(input_file, skiprows = 8, delim_whitespace = True)"
   ]
  },
  {
   "cell_type": "markdown",
   "metadata": {},
   "source": [
    "## Verificação dos dados\n",
    "\n",
    "* m: massa [em unidades de massa solar]\n",
    "* a: semieixo maior [au]\n",
    "* e: excentricidade\n",
    "* inc: inclinação [deg]"
   ]
  },
  {
   "cell_type": "code",
   "execution_count": 24,
   "metadata": {
    "collapsed": false
   },
   "outputs": [
    {
     "name": "stdout",
     "output_type": "stream",
     "text": [
      "    Planeta             m          a         e      inc\n",
      "0  Mercurio  3.300000e+23   0.387100  0.206000  7.00000\n",
      "1     Venus  4.870000e+24   0.723300  0.007000  3.39000\n",
      "2     Terra  5.950000e+24   1.000000  0.017000  0.00000\n",
      "3     Marte  6.420000e+23   1.527300  0.093000  1.85000\n",
      "4   Jupiter  1.898130e+27   5.202545  0.047462  1.30667\n",
      "5   Saturno  5.683000e+26   9.554841  0.057548  2.48795\n",
      "6     Urano  8.600000e+25  19.191400  0.046000  0.77000\n",
      "7    Netuno  1.020000e+26  30.061100  0.010000  1.77000\n"
     ]
    }
   ],
   "source": [
    "print(planetas)"
   ]
  },
  {
   "cell_type": "markdown",
   "metadata": {},
   "source": [
    "## Atribuição dos valores"
   ]
  },
  {
   "cell_type": "code",
   "execution_count": 25,
   "metadata": {
    "collapsed": false
   },
   "outputs": [],
   "source": [
    "# Constante da gravitação universal\n",
    "G = (0.01720209895)**2 # para o SS AU^3 d^-2 M_sol^-1\n",
    "\n",
    "# Massa do Sol \n",
    "M = 1 # [Unidade de massa solar]\n",
    "Msi = 1.9891e30 #[kg]\n",
    "\n",
    "# Semieixo maior\n",
    "a = planetas['a'] #[au]\n",
    "\n",
    "# Massa\n",
    "m = planetas['m'] # Considerando massa unitária para o Sol\n",
    "m = planetas['m'] / Msi # Para que os planetas fiquem em unidade de massa solar\n",
    "\n",
    "# Dados dos movimentos médios n calculado\n",
    "n = (G * (M + m)/a**3)**(1/2) #[rad/day]\n",
    "\n",
    "# Excentricidade\n",
    "e = planetas['e']\n",
    "\n",
    "# Inclinação\n",
    "inc = planetas['inc'] # [deg]"
   ]
  },
  {
   "cell_type": "markdown",
   "metadata": {},
   "source": [
    "## Cálculo dos autovalores"
   ]
  },
  {
   "cell_type": "code",
   "execution_count": 26,
   "metadata": {
    "collapsed": false
   },
   "outputs": [
    {
     "name": "stdout",
     "output_type": "stream",
     "text": [
      "Auto frequências [deg/yr]\n",
      "[ 0.00479516  0.00498898  0.00618658  0.00203311  0.00151257  0.00103035\n",
      "  0.00075282  0.00017607]\n",
      "[ -7.14563995e-03  -5.17845727e-03  -4.89368878e-03  -1.82032352e-03\n",
      "  -1.44005899e-03  -8.09142707e-04   8.12208628e-19  -1.88338247e-04]\n"
     ]
    }
   ],
   "source": [
    "# Cálculo dos autovalores e autovetores\n",
    "Aval, Avec, Bval, Bvec = TSL.FreqProp (G, a, m, n)\n",
    "\n",
    "print('Auto frequências [deg/yr]')\n",
    "print(Aval)\n",
    "print(Bval)"
   ]
  },
  {
   "cell_type": "code",
   "execution_count": 29,
   "metadata": {
    "collapsed": false
   },
   "outputs": [
    {
     "name": "stdout",
     "output_type": "stream",
     "text": [
      "Auto frequências [arcsec/yr]\n",
      "17.2625927052\n",
      "17.9603432917\n",
      "22.2717008096\n",
      "7.31919156291\n",
      "5.44524309538\n",
      "3.7092571487\n",
      "2.71014905252\n",
      "0.633860404353\n"
     ]
    }
   ],
   "source": [
    "# Cálculo dos autovalores e autovetores\n",
    "\n",
    "\n",
    "print('Auto frequências g [arcsec/yr]')\n",
    "for i in Aval:\n",
    "    print(i * 3600)"
   ]
  },
  {
   "cell_type": "code",
   "execution_count": 30,
   "metadata": {
    "collapsed": false
   },
   "outputs": [
    {
     "name": "stdout",
     "output_type": "stream",
     "text": [
      "Auto frequências f [arcsec/yr]\n",
      "-25.7243038378\n",
      "-18.6424461697\n",
      "-17.6172796142\n",
      "-6.55316465948\n",
      "-5.18421235216\n",
      "-2.91291374675\n",
      "2.92395106094e-15\n",
      "-0.678017690212\n"
     ]
    }
   ],
   "source": [
    "# Cálculo dos autovalores e autovetores\n",
    "\n",
    "\n",
    "print('Auto frequências f [arcsec/yr]')\n",
    "for i in Bval:\n",
    "    print(i * 3600)"
   ]
  },
  {
   "cell_type": "code",
   "execution_count": null,
   "metadata": {
    "collapsed": true
   },
   "outputs": [],
   "source": []
  }
 ],
 "metadata": {
  "anaconda-cloud": {},
  "kernelspec": {
   "display_name": "Python [default]",
   "language": "python",
   "name": "python3"
  },
  "language_info": {
   "codemirror_mode": {
    "name": "ipython",
    "version": 3
   },
   "file_extension": ".py",
   "mimetype": "text/x-python",
   "name": "python",
   "nbconvert_exporter": "python",
   "pygments_lexer": "ipython3",
   "version": "3.5.2"
  }
 },
 "nbformat": 4,
 "nbformat_minor": 1
}
