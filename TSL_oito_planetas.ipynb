{
 "cells": [
  {
   "cell_type": "markdown",
   "metadata": {},
   "source": [
    "# TSL\n",
    "\n",
    "## Cálculo das autofrequências"
   ]
  },
  {
   "cell_type": "markdown",
   "metadata": {},
   "source": [
    "## Importação dos módulos necessários"
   ]
  },
  {
   "cell_type": "code",
   "execution_count": 21,
   "metadata": {
    "collapsed": false
   },
   "outputs": [],
   "source": [
    "import TSL\n",
    "import numpy as np\n",
    "import pandas as pd"
   ]
  },
  {
   "cell_type": "markdown",
   "metadata": {},
   "source": [
    "## Leitura dos dados dos planetas"
   ]
  },
  {
   "cell_type": "code",
   "execution_count": 22,
   "metadata": {
    "collapsed": false
   },
   "outputs": [],
   "source": [
    "# Leitura dos dados\n",
    "input_file = \"SS_oito_planetas.txt\"\n",
    "\n",
    "# Lendo nome dos planetas\n",
    "planetas = pd.read_table(input_file, skiprows = 8, delim_whitespace = True)"
   ]
  },
  {
   "cell_type": "markdown",
   "metadata": {},
   "source": [
    "## Verificação dos dados\n",
    "\n",
    "* m: massa [em unidades de massa solar]\n",
    "* a: semieixo maior [au]\n",
    "* e: excentricidade\n",
    "* inc: inclinação [deg]"
   ]
  },
  {
   "cell_type": "code",
   "execution_count": 23,
   "metadata": {
    "collapsed": false
   },
   "outputs": [
    {
     "name": "stdout",
     "output_type": "stream",
     "text": [
      "    Planeta             m          a         e      inc\n",
      "0  Mercurio  3.300000e+23   0.387100  0.206000  7.00000\n",
      "1     Venus  4.870000e+24   0.723300  0.007000  3.39000\n",
      "2     Terra  5.970000e+24   1.000000  0.017000  0.00000\n",
      "3     Marte  6.420000e+23   1.527300  0.093000  1.85000\n",
      "4   Jupiter  1.898130e+27   5.202582  0.047462  1.30667\n",
      "5   Saturno  5.683000e+26   9.545543  0.057548  2.48795\n",
      "6     Urano  8.680000e+25  19.194230  0.046000  0.77000\n",
      "7    Netuno  1.020000e+26  30.070971  0.010000  1.77000\n"
     ]
    }
   ],
   "source": [
    "print(planetas)"
   ]
  },
  {
   "cell_type": "markdown",
   "metadata": {},
   "source": [
    "## Atribuição dos valores"
   ]
  },
  {
   "cell_type": "code",
   "execution_count": 24,
   "metadata": {
    "collapsed": false
   },
   "outputs": [],
   "source": [
    "# Constante da gravitação universal\n",
    "G = (0.01720209895)**2 # para o SS AU^3 d^-2 M_sol^-1\n",
    "\n",
    "# Massa do Sol \n",
    "M = 1 # [Unidade de massa solar]\n",
    "Msi = 1.9891e30 #[kg]\n",
    "\n",
    "# Semieixo maior\n",
    "a = planetas['a'] #[au]\n",
    "\n",
    "# Massa\n",
    "m = planetas['m'] # Considerando massa unitária para o Sol\n",
    "m = planetas['m'] / Msi # Para que os planetas fiquem em unidade de massa solar\n",
    "\n",
    "# Dados dos movimentos médios n calculado\n",
    "n = (G * (M + m)/a**3)**(1/2) #[rad/day]\n",
    "\n",
    "# Excentricidade\n",
    "e = planetas['e']\n",
    "\n",
    "# Inclinação\n",
    "inc = planetas['inc'] # [deg]"
   ]
  },
  {
   "cell_type": "markdown",
   "metadata": {},
   "source": [
    "## Cálculo dos autovalores"
   ]
  },
  {
   "cell_type": "code",
   "execution_count": 25,
   "metadata": {
    "collapsed": false
   },
   "outputs": [
    {
     "name": "stdout",
     "output_type": "stream",
     "text": [
      "Auto frequências [deg/yr]\n",
      "[ 0.00479985  0.00499226  0.00621838  0.00203456  0.00151355  0.00103325\n",
      "  0.00075142  0.00017634]\n",
      "[ -7.18035626e-03  -5.18411124e-03  -4.89653214e-03  -1.82125731e-03\n",
      "  -1.44103599e-03  -8.07717172e-04   5.89408846e-19  -1.88598756e-04]\n"
     ]
    }
   ],
   "source": [
    "# Cálculo dos autovalores e autovetores\n",
    "A, B, Aval, Avec, Bval, Bvec = TSL.FreqProp (G, a, m, n)\n",
    "\n",
    "print('Auto frequências [deg/yr]')\n",
    "print(Aval)\n",
    "print(Bval)"
   ]
  },
  {
   "cell_type": "code",
   "execution_count": 26,
   "metadata": {
    "collapsed": false
   },
   "outputs": [
    {
     "name": "stdout",
     "output_type": "stream",
     "text": [
      "Auto frequências g [arcsec/yr]\n",
      "f \t\t g\n",
      "17.2794484494 \t -25.8492825472\n",
      "17.9721475239 \t -18.6628004522\n",
      "22.3861740301 \t -17.6275156957\n",
      "7.32442426425 \t -6.55652633271\n",
      "5.44877654864 \t -5.1877295695\n",
      "3.71970358902 \t -2.90778181787\n",
      "2.70510103888 \t 2.12187184628e-15\n",
      "0.634816493626 \t -0.678955522604\n"
     ]
    }
   ],
   "source": [
    "# Cálculo dos autovalores e autovetores\n",
    "\n",
    "\n",
    "print('Auto frequências g [arcsec/yr]')\n",
    "print('f', '\\t\\t', 'g')\n",
    "for (i, j) in zip(Aval, Bval):\n",
    "    print(i * 3600,'\\t', j * 3600)"
   ]
  },
  {
   "cell_type": "code",
   "execution_count": 27,
   "metadata": {
    "collapsed": false
   },
   "outputs": [
    {
     "name": "stdout",
     "output_type": "stream",
     "text": [
      "[[  1.53429562e-03  -5.11207427e-04  -1.25645275e-04  -2.09686453e-06\n",
      "   -4.13844372e-05  -1.08590773e-06  -1.01230873e-08  -1.97380011e-09]\n",
      " [ -2.53415976e-05   3.32525928e-03  -1.69647973e-03  -1.39407514e-05\n",
      "   -2.02394015e-04  -5.21983513e-06  -4.83973509e-08  -9.42659386e-09]\n",
      " [ -4.32112412e-06  -1.17696194e-03   3.54968997e-03  -5.42382386e-05\n",
      "   -4.69573095e-04  -1.18405934e-05  -1.09021247e-07  -2.12060433e-08]\n",
      " [ -5.42623578e-07  -7.27742327e-05  -4.08115685e-04   4.93069673e-03\n",
      "   -1.48442208e-03  -3.50365193e-05  -3.16289675e-07  -6.12905283e-08]\n",
      " [ -1.96164347e-09  -1.93528020e-07  -6.47195741e-07  -2.71901837e-07\n",
      "    2.08038288e-03  -1.33706201e-03  -7.65452784e-06  -1.37745700e-06]\n",
      " [ -1.26963381e-10  -1.23113451e-08  -4.02539444e-08  -1.58299018e-08\n",
      "   -3.29802604e-03   5.15096257e-03  -5.04347932e-05  -7.17873558e-06]\n",
      " [ -5.46542573e-12  -5.27103339e-10  -1.71147903e-09  -6.59884217e-10\n",
      "   -8.71859284e-05  -2.32892607e-04   7.62827007e-04  -8.66333190e-05]\n",
      " [ -7.24508854e-13  -6.98004929e-11  -2.26333894e-10  -8.69371915e-11\n",
      "   -1.06668345e-05  -2.25373542e-05  -5.88998879e-05   1.85494824e-04]]\n"
     ]
    }
   ],
   "source": [
    "print(A)"
   ]
  },
  {
   "cell_type": "code",
   "execution_count": 28,
   "metadata": {
    "collapsed": false
   },
   "outputs": [
    {
     "name": "stdout",
     "output_type": "stream",
     "text": [
      "[[ -1.53429562e-03   7.95527818e-04   2.64873360e-04   6.67321918e-06\n",
      "    4.45270547e-04   2.14264247e-05   4.01580464e-07   1.22666629e-07]\n",
      " [  3.94359409e-05  -3.32525928e-03   2.03758163e-03   2.42827996e-05\n",
      "    1.16746825e-03   5.51494663e-05   1.02763985e-06   3.13548830e-07]\n",
      " [  9.10938083e-06   1.41360724e-03  -3.54968997e-03   7.06755114e-05\n",
      "    1.96356844e-03   9.05445565e-05   1.67463178e-06   5.10219605e-07]\n",
      " [  1.72688603e-06   1.26762328e-04   5.31797962e-04  -4.93069673e-03\n",
      "    4.09051332e-03   1.75748041e-04   3.18248145e-06   9.65709773e-07]\n",
      " [  2.11060515e-08   1.11632658e-06   2.70631589e-06   7.49259999e-07\n",
      "   -2.08038288e-03   2.04658966e-03   2.28066842e-05   6.39351937e-06]\n",
      " [  2.50515882e-09   1.30073861e-07   3.07820346e-07   7.94049834e-08\n",
      "    5.04816228e-03  -5.15096257e-03   8.39501048e-05   1.83303830e-05]\n",
      " [  2.16812137e-10   1.11921910e-08   2.62893449e-08   6.63970229e-09\n",
      "    2.59770684e-04   3.87656171e-04  -7.62827007e-04   1.15355814e-04]\n",
      " [  4.50263726e-11   2.32171484e-09   5.44561699e-09   1.36980538e-09\n",
      "    4.95105203e-05   5.75475070e-05   7.84276144e-05  -1.85494824e-04]]\n"
     ]
    }
   ],
   "source": [
    "print(B)"
   ]
  },
  {
   "cell_type": "code",
   "execution_count": 29,
   "metadata": {
    "collapsed": false
   },
   "outputs": [
    {
     "name": "stdout",
     "output_type": "stream",
     "text": [
      "[ 0.00479985  0.00499226  0.00621838  0.00203456  0.00151355  0.00103325\n",
      "  0.00075142  0.00017634]\n"
     ]
    }
   ],
   "source": [
    "A_Val = np.linalg.eigvals(A)\n",
    "print(A_Val)"
   ]
  },
  {
   "cell_type": "code",
   "execution_count": 30,
   "metadata": {
    "collapsed": false
   },
   "outputs": [
    {
     "name": "stdout",
     "output_type": "stream",
     "text": [
      "17.2794484494\n",
      "17.9721475239\n",
      "22.3861740301\n",
      "7.32442426425\n",
      "5.44877654864\n",
      "3.71970358902\n",
      "2.70510103888\n",
      "0.634816493626\n"
     ]
    }
   ],
   "source": [
    "for i in A_Val:\n",
    "    print(i * 3600)"
   ]
  },
  {
   "cell_type": "code",
   "execution_count": 31,
   "metadata": {
    "collapsed": false
   },
   "outputs": [
    {
     "name": "stdout",
     "output_type": "stream",
     "text": [
      "0    1.659042e-07\n",
      "1    2.448343e-06\n",
      "2    3.001357e-06\n",
      "3    3.227590e-07\n",
      "4    9.542657e-04\n",
      "5    2.857071e-04\n",
      "6    4.363783e-05\n",
      "7    5.127947e-05\n",
      "Name: m, dtype: float64\n"
     ]
    }
   ],
   "source": [
    "print(m)"
   ]
  },
  {
   "cell_type": "code",
   "execution_count": null,
   "metadata": {
    "collapsed": true
   },
   "outputs": [],
   "source": []
  }
 ],
 "metadata": {
  "anaconda-cloud": {},
  "kernelspec": {
   "display_name": "Python [default]",
   "language": "python",
   "name": "python3"
  },
  "language_info": {
   "codemirror_mode": {
    "name": "ipython",
    "version": 3
   },
   "file_extension": ".py",
   "mimetype": "text/x-python",
   "name": "python",
   "nbconvert_exporter": "python",
   "pygments_lexer": "ipython3",
   "version": "3.5.2"
  }
 },
 "nbformat": 4,
 "nbformat_minor": 1
}
