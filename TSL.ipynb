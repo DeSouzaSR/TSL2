{
 "cells": [
  {
   "cell_type": "markdown",
   "metadata": {},
   "source": [
    "# TSL\n",
    "\n",
    "## Cálculo das autofrequências"
   ]
  },
  {
   "cell_type": "markdown",
   "metadata": {},
   "source": [
    "## Importação dos módulos necessários"
   ]
  },
  {
   "cell_type": "code",
   "execution_count": 6,
   "metadata": {
    "collapsed": true
   },
   "outputs": [],
   "source": [
    "import TSL\n",
    "import numpy as np\n",
    "import pandas as pd"
   ]
  },
  {
   "cell_type": "markdown",
   "metadata": {},
   "source": [
    "## Leitura dos dados dos planetas"
   ]
  },
  {
   "cell_type": "code",
   "execution_count": 7,
   "metadata": {
    "collapsed": false
   },
   "outputs": [],
   "source": [
    "# Leitura dos dados\n",
    "#input_file = sys.argv[1]\n",
    "input_file = \"planetas.txt\"\n",
    "\n",
    "# Lendo nome dos planetas\n",
    "planetas = pd.read_table(input_file, skiprows = 8, delim_whitespace = True)"
   ]
  },
  {
   "cell_type": "markdown",
   "metadata": {},
   "source": [
    "## Verificação dos dados\n",
    "\n",
    "* m: massa [em unidades de massa solar]\n",
    "* a: semieixo maior [au]\n",
    "* e: excentricidade\n",
    "* inc: inclinação [deg]"
   ]
  },
  {
   "cell_type": "code",
   "execution_count": 8,
   "metadata": {
    "collapsed": false
   },
   "outputs": [
    {
     "name": "stdout",
     "output_type": "stream",
     "text": [
      "   Planeta         m         a         e      inc\n",
      "0  Jupiter  0.000955  5.202545  0.047462  1.30667\n",
      "1  Saturno  0.000286  9.554841  0.057548  2.48795\n"
     ]
    }
   ],
   "source": [
    "print(planetas)"
   ]
  },
  {
   "cell_type": "markdown",
   "metadata": {},
   "source": [
    "## Atribuição dos valores"
   ]
  },
  {
   "cell_type": "code",
   "execution_count": 9,
   "metadata": {
    "collapsed": false
   },
   "outputs": [],
   "source": [
    "# Constante da gravitação universal\n",
    "G = (0.01720209895)**2 # para o SS AU^3 d^-2 M_sol^-1\n",
    "\n",
    "# Massa do Sol\n",
    "M = 1.0 # Massa 'unitária' para o Sol\n",
    "\n",
    "# Semieixo maior\n",
    "a = planetas['a'] #[au]\n",
    "\n",
    "# Massa\n",
    "m = planetas['m'] # Considerando massa unitária para o Sol\n",
    "\n",
    "# Dados dos movimentos médios n calculado\n",
    "n = (G * (M + m)/a**3)**(1/2) #[rad/day]\n",
    "\n",
    "# Excentricidade\n",
    "e = planetas['e']\n",
    "\n",
    "# Inclinação\n",
    "inc = planetas['inc'] # [deg]"
   ]
  },
  {
   "cell_type": "markdown",
   "metadata": {},
   "source": [
    "## Cálculo dos autovalores"
   ]
  },
  {
   "cell_type": "code",
   "execution_count": 10,
   "metadata": {
    "collapsed": false
   },
   "outputs": [
    {
     "name": "stdout",
     "output_type": "stream",
     "text": [
      "Auto frequências [deg/yr]\n",
      "[ 0.00096381  0.00610026]\n",
      "[ -8.67361738e-19  -7.06406493e-03]\n"
     ]
    }
   ],
   "source": [
    "# Cálculo dos autovalores e autovetores\n",
    "A, B, Aval, Avec, Bval, Bvec = TSL.FreqProp (G, a, m, n)\n",
    "\n",
    "print('Auto frequências [deg/yr]')\n",
    "print(Aval)\n",
    "print(Bval)"
   ]
  },
  {
   "cell_type": "code",
   "execution_count": 11,
   "metadata": {
    "collapsed": false
   },
   "outputs": [
    {
     "name": "stdout",
     "output_type": "stream",
     "text": [
      "Auto frequências g [arcsec/yr]\n",
      "f \t\t g\n",
      "3.46971303973 \t -3.12250225676e-15\n",
      "21.9609206972 \t -25.430633737\n"
     ]
    }
   ],
   "source": [
    "# Cálculo dos autovalores e autovetores\n",
    "\n",
    "\n",
    "print('Auto frequências g [arcsec/yr]')\n",
    "print('f', '\\t\\t', 'g')\n",
    "for (i, j) in zip(Aval, Bval):\n",
    "    print(i * 3600,'\\t', j * 3600)"
   ]
  },
  {
   "cell_type": "code",
   "execution_count": 12,
   "metadata": {
    "collapsed": false
   },
   "outputs": [
    {
     "name": "stdout",
     "output_type": "stream",
     "text": [
      "[[ 0.00203832 -0.00133048]\n",
      " [-0.00328047  0.00502575]]\n"
     ]
    }
   ],
   "source": [
    "print(A)"
   ]
  },
  {
   "cell_type": "code",
   "execution_count": 13,
   "metadata": {
    "collapsed": false
   },
   "outputs": [
    {
     "name": "stdout",
     "output_type": "stream",
     "text": [
      "[ 0.00096381  0.00610026]\n"
     ]
    }
   ],
   "source": [
    "print(Aval)"
   ]
  },
  {
   "cell_type": "code",
   "execution_count": 16,
   "metadata": {
    "collapsed": false
   },
   "outputs": [
    {
     "name": "stdout",
     "output_type": "stream",
     "text": [
      "[ -8.67361738e-19  -7.06406493e-03]\n"
     ]
    }
   ],
   "source": [
    "print(Bval)"
   ]
  },
  {
   "cell_type": "code",
   "execution_count": 14,
   "metadata": {
    "collapsed": false
   },
   "outputs": [
    {
     "name": "stdout",
     "output_type": "stream",
     "text": [
      "[[-0.77797183  0.31127449]\n",
      " [-0.62829915 -0.95032005]]\n"
     ]
    }
   ],
   "source": [
    "print(Avec)"
   ]
  },
  {
   "cell_type": "code",
   "execution_count": 15,
   "metadata": {
    "collapsed": false
   },
   "outputs": [
    {
     "name": "stdout",
     "output_type": "stream",
     "text": [
      "[[ 0.70710678 -0.37583998]\n",
      " [ 0.70710678  0.92668458]]\n"
     ]
    }
   ],
   "source": [
    "print(Bvec)"
   ]
  },
  {
   "cell_type": "code",
   "execution_count": 17,
   "metadata": {
    "collapsed": false
   },
   "outputs": [
    {
     "name": "stdout",
     "output_type": "stream",
     "text": [
      "[  3.46971304  21.9609207 ]\n"
     ]
    }
   ],
   "source": [
    "print(Aval * 3600)"
   ]
  },
  {
   "cell_type": "code",
   "execution_count": 18,
   "metadata": {
    "collapsed": false
   },
   "outputs": [
    {
     "name": "stdout",
     "output_type": "stream",
     "text": [
      "[ -3.12250226e-15  -2.54306337e+01]\n"
     ]
    }
   ],
   "source": [
    "print(Bval * 3600)"
   ]
  },
  {
   "cell_type": "code",
   "execution_count": null,
   "metadata": {
    "collapsed": true
   },
   "outputs": [],
   "source": []
  }
 ],
 "metadata": {
  "anaconda-cloud": {},
  "kernelspec": {
   "display_name": "Python [default]",
   "language": "python",
   "name": "python3"
  },
  "language_info": {
   "codemirror_mode": {
    "name": "ipython",
    "version": 3
   },
   "file_extension": ".py",
   "mimetype": "text/x-python",
   "name": "python",
   "nbconvert_exporter": "python",
   "pygments_lexer": "ipython3",
   "version": "3.5.2"
  }
 },
 "nbformat": 4,
 "nbformat_minor": 1
}
