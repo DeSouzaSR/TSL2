{
 "cells": [
  {
   "cell_type": "markdown",
   "metadata": {},
   "source": [
    "# TSL\n",
    "\n",
    "## Cálculo das autofrequências"
   ]
  },
  {
   "cell_type": "markdown",
   "metadata": {},
   "source": [
    "## Importação dos módulos necessários"
   ]
  },
  {
   "cell_type": "code",
   "execution_count": 68,
   "metadata": {
    "collapsed": true
   },
   "outputs": [],
   "source": [
    "import TSL\n",
    "import numpy as np\n",
    "import pandas as pd"
   ]
  },
  {
   "cell_type": "markdown",
   "metadata": {},
   "source": [
    "## Leitura dos dados dos planetas"
   ]
  },
  {
   "cell_type": "code",
   "execution_count": 69,
   "metadata": {
    "collapsed": false
   },
   "outputs": [],
   "source": [
    "# Leitura dos dados\n",
    "#input_file = sys.argv[1]\n",
    "input_file = \"planetas.txt\"\n",
    "\n",
    "# Lendo nome dos planetas\n",
    "planetas = pd.read_table(input_file, skiprows = 8, delim_whitespace = True)"
   ]
  },
  {
   "cell_type": "markdown",
   "metadata": {},
   "source": [
    "## Verificação dos dados\n",
    "\n",
    "* m: massa [em unidades de massa solar]\n",
    "* a: semieixo maior [au]\n",
    "* e: excentricidade\n",
    "* inc: inclinação [deg]"
   ]
  },
  {
   "cell_type": "code",
   "execution_count": 70,
   "metadata": {
    "collapsed": false
   },
   "outputs": [
    {
     "name": "stdout",
     "output_type": "stream",
     "text": [
      "   Planeta         m         a         e      inc\n",
      "0  Jupiter  0.000955  5.202545  0.047462  1.30667\n",
      "1  Saturno  0.000286  9.554841  0.057548  2.48795\n"
     ]
    }
   ],
   "source": [
    "print(planetas)"
   ]
  },
  {
   "cell_type": "markdown",
   "metadata": {},
   "source": [
    "## Atribuição dos valores"
   ]
  },
  {
   "cell_type": "code",
   "execution_count": 71,
   "metadata": {
    "collapsed": false
   },
   "outputs": [],
   "source": [
    "# Constante da gravitação universal\n",
    "G = (0.01720209895)**2 # para o SS AU^3 d^-2 M_sol^-1\n",
    "\n",
    "# Massa do Sol\n",
    "M = 1.0 # Massa 'unitária' para o Sol\n",
    "\n",
    "# Semieixo maior\n",
    "a = planetas['a'] #[au]\n",
    "\n",
    "# Massa\n",
    "m = planetas['m'] # Considerando massa unitária para o Sol\n",
    "\n",
    "# Dados dos movimentos médios n calculado\n",
    "n = (G * (M + m)/a**3)**(1/2) #[rad/day]\n",
    "\n",
    "# Excentricidade\n",
    "e = planetas['e']\n",
    "\n",
    "# Inclinação\n",
    "inc = planetas['inc'] # [deg]"
   ]
  },
  {
   "cell_type": "markdown",
   "metadata": {},
   "source": [
    "## Cálculo dos autovalores"
   ]
  },
  {
   "cell_type": "code",
   "execution_count": 72,
   "metadata": {
    "collapsed": false
   },
   "outputs": [
    {
     "name": "stdout",
     "output_type": "stream",
     "text": [
      "Auto frequências [deg/yr]\n",
      "[ 0.00096381  0.00610026]\n",
      "[ -8.67361738e-19  -7.06406493e-03]\n"
     ]
    }
   ],
   "source": [
    "# Cálculo dos autovalores e autovetores\n",
    "Aval, Avec, Bval, Bvec = TSL.FreqProp (G, a, m, n)\n",
    "\n",
    "print('Auto frequências [deg/yr]')\n",
    "print(Aval)\n",
    "print(Bval)"
   ]
  }
 ],
 "metadata": {
  "anaconda-cloud": {},
  "kernelspec": {
   "display_name": "Python [default]",
   "language": "python",
   "name": "python3"
  },
  "language_info": {
   "codemirror_mode": {
    "name": "ipython",
    "version": 3
   },
   "file_extension": ".py",
   "mimetype": "text/x-python",
   "name": "python",
   "nbconvert_exporter": "python",
   "pygments_lexer": "ipython3",
   "version": "3.5.2"
  }
 },
 "nbformat": 4,
 "nbformat_minor": 1
}
